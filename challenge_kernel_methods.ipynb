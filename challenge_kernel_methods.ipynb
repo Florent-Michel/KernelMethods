{
  "cells": [
    {
      "cell_type": "markdown",
      "metadata": {
        "id": "jHdHuWLSV2WP"
      },
      "source": [
        "# Kernel methods for machine learning: Data Challenge\n",
        "\n",
        "Florent MICHEL (MVA)"
      ]
    },
    {
      "cell_type": "markdown",
      "metadata": {
        "id": "gxaZPRAjWRWi"
      },
      "source": [
        "#### Imports and functions"
      ]
    },
    {
      "cell_type": "code",
      "execution_count": 5,
      "metadata": {
        "id": "8Pjcley9Lfnl"
      },
      "outputs": [],
      "source": [
        "import numpy as np\n",
        "import pandas as pd\n",
        "import matplotlib.pyplot as plt"
      ]
    },
    {
      "cell_type": "markdown",
      "metadata": {
        "id": "trjwm3anWILr"
      },
      "source": [
        "#### Load the data"
      ]
    },
    {
      "cell_type": "code",
      "execution_count": 6,
      "metadata": {
        "colab": {
          "base_uri": "https://localhost:8080/"
        },
        "id": "_gTCkXCDLq9j",
        "outputId": "5696a598-e8d5-4ac3-8214-afd3362f4006"
      },
      "outputs": [
        {
          "output_type": "stream",
          "name": "stdout",
          "text": [
            "(5000, 3072) (5000,) (2000, 3072)\n"
          ]
        }
      ],
      "source": [
        "CSV_FILE_X_TRAIN = 'Xtr.csv'\n",
        "CSV_FILE_X_TEST = 'Xte.csv'\n",
        "CSV_FILE_Y_TRAIN = 'Ytr.csv'\n",
        "\n",
        "x_train = np.array(pd.read_csv(CSV_FILE_X_TRAIN, header=None, sep=',', usecols=range(3072)))\n",
        "x_test = np.array(pd.read_csv(CSV_FILE_X_TEST, header=None, sep=',', usecols=range(3072)))\n",
        "y_train = np.array(pd.read_csv(CSV_FILE_Y_TRAIN, sep=',', usecols=[1])).squeeze()\n",
        "\n",
        "print(x_train.shape, y_train.shape, x_test.shape)"
      ]
    },
    {
      "cell_type": "markdown",
      "metadata": {
        "id": "vDoXvHtpWsvF"
      },
      "source": [
        "#### Image visualisation"
      ]
    },
    {
      "cell_type": "code",
      "execution_count": 7,
      "metadata": {
        "id": "d3KYvoupdlMY"
      },
      "outputs": [],
      "source": [
        "def normalize(x):\n",
        "    \"\"\"Normalize to values between 0 and 1\"\"\"\n",
        "\n",
        "    return (x - x.min()) / (x.max() - x.min())\n",
        "\n",
        "def to_img(x):\n",
        "    \"\"\"Convert a data point into a rgb image of shape (dim, dim, 3)\"\"\"\n",
        "\n",
        "    size = x.shape[0] // 3\n",
        "    dim = int(np.sqrt(size))\n",
        "\n",
        "    x_r = normalize(x[:size].reshape((dim, dim)))\n",
        "    x_g = normalize(x[size: 2*size].reshape((dim, dim)))\n",
        "    x_b = normalize(x[2*size:].reshape((dim, dim)))\n",
        "\n",
        "    img = np.zeros((dim, dim, 3))\n",
        "    img[:,:,0] = x_r\n",
        "    img[:,:,1] = x_g\n",
        "    img[:,:,2] = x_b\n",
        "\n",
        "    return img"
      ]
    },
    {
      "cell_type": "code",
      "source": [
        "i = 0\n",
        "plt.imshow(to_img(x_train[i]))\n",
        "plt.title(f'Image {i} (training set), class {y_train[i]}')\n",
        "plt.show()"
      ],
      "metadata": {
        "colab": {
          "base_uri": "https://localhost:8080/",
          "height": 281
        },
        "id": "CJSdzY7n4A5q",
        "outputId": "e54c672a-f094-4ad2-9d7e-e638b9879ce4"
      },
      "execution_count": 8,
      "outputs": [
        {
          "output_type": "display_data",
          "data": {
            "text/plain": [
              "<Figure size 432x288 with 1 Axes>"
            ],
            "image/png": "[encoded data removed]"
          },
          "metadata": {
            "needs_background": "light"
          }
        }
      ]
    },
    {
      "cell_type": "markdown",
      "source": [
        "0 plane, 1 car, 2 bird, 3 cat, 4 deer, 5 dog, 6 frog, 7 horse, 8 ship, 9 truck"
      ],
      "metadata": {
        "id": "_hOO87IR3_qJ"
      }
    },
    {
      "cell_type": "markdown",
      "source": [
        "#### Feature extraction"
      ],
      "metadata": {
        "id": "vLZicWjZ4OS5"
      }
    },
    {
      "cell_type": "code",
      "execution_count": 9,
      "metadata": {
        "id": "kKdIJ4biJdTe"
      },
      "outputs": [],
      "source": [
        "def channels_mean(X):\n",
        "    \"\"\"Compute the mean of the channels at each pixel\"\"\"\n",
        "    size = X.shape[1] // 3\n",
        "\n",
        "    x_r = X[:, :size]\n",
        "    x_g = X[:, size: 2*size]\n",
        "    x_b = X[:, 2*size:]\n",
        "\n",
        "    return (x_r + x_g + x_b) / 3"
      ]
    },
    {
      "cell_type": "code",
      "execution_count": 10,
      "metadata": {
        "id": "3-6C0nRtJucM"
      },
      "outputs": [],
      "source": [
        "x_train_means = channels_mean(x_train)\n",
        "x_test_means = channels_mean(x_test)"
      ]
    },
    {
      "cell_type": "code",
      "source": [
        "class HOG:\n",
        "    def __init__(self, window, bins=9):\n",
        "        self.window = window\n",
        "        self.bins = bins\n",
        "        self.dim = None\n",
        "        self.norm = None\n",
        "        self.angle = None\n",
        "        self.hist = None\n",
        "\n",
        "    def gradient(self, img):\n",
        "        \"\"\"Compute the norm and orientation of the gradient at each pixel by \n",
        "        keeping the channel with the biggest norm for each pixel\"\"\"\n",
        "\n",
        "        dim = img.shape[0]\n",
        "        self.dim = dim\n",
        "\n",
        "        pad_img = np.zeros((dim+2, dim+2, 3))\n",
        "        pad_img[1:-1, 1:-1, :] = img\n",
        "        grad_y = pad_img[:-2, 1:-1, :] - pad_img[2:, 1:-1, :] \n",
        "        grad_x = pad_img[1:-1, 2:, :] - pad_img[1:-1, :-2, :]\n",
        "        norm = np.sqrt(np.square(grad_x) + np.square(grad_y))\n",
        "        max_channels = np.argmax(norm, axis=2)\n",
        "        norm = np.max(norm, axis=2)\n",
        "\n",
        "        grad_x_max = np.zeros(norm.shape)\n",
        "        for i in range(dim):\n",
        "            for j in range(dim):\n",
        "                grad_x_max[i, j] = grad_x[i, j, max_channels[i, j]]\n",
        "        grad_y_max = np.zeros(norm.shape)\n",
        "        for i in range(dim - 2):\n",
        "            for j in range(dim - 2):\n",
        "                grad_y_max[i, j] = grad_y[i, j, max_channels[i, j]]\n",
        "        angle = 180 * np.arctan2(grad_y_max, grad_x_max) / np.pi\n",
        "        angle = np.clip((angle < 0) * 180 + angle, 0, 180)\n",
        "\n",
        "        self.norm = norm\n",
        "        self.angle = angle\n",
        "\n",
        "    def histogram(self, i_patch, j_patch):\n",
        "        \"\"\"Compute the histogram of gradient orientations for a cell\"\"\"\n",
        "\n",
        "        hist = np.zeros(self.bins)\n",
        "        for i in range(self.window):\n",
        "            for j in range(self.window):\n",
        "                norm = self.norm[i_patch + i, j_patch + j]\n",
        "                angle = self.angle[i_patch + i, j_patch + j]\n",
        "                pos = angle / 180 * self.bins\n",
        "                left_bin = int(pos) % 9\n",
        "                right_bin = (int(pos) + 1) % 9\n",
        "                hist[left_bin] += norm * (left_bin + 1 - pos) % 9\n",
        "                hist[right_bin] += norm * (pos - left_bin) % 9\n",
        "\n",
        "        return hist\n",
        "    \n",
        "    def cell_hist(self):\n",
        "        \"\"\"Compute the histogram of gradient orientations in each cell\"\"\"\n",
        "\n",
        "        dim_cells = self.dim // self.window\n",
        "        hist = np.zeros((dim_cells, dim_cells, self.bins))\n",
        "        for i in range(dim_cells):\n",
        "            for j in range(dim_cells):\n",
        "                hist[i, j, :] = self.histogram(i*self.window, j*self.window)\n",
        "\n",
        "        self.hist = hist\n",
        "\n",
        "    def features(self, img):\n",
        "        \"\"\"Aggregate histograms 4 by 4 and flatten bin values\"\"\"\n",
        "\n",
        "        self.gradient(img)\n",
        "        self.cell_hist()\n",
        "        features = np.zeros(0)\n",
        "        dim_cells = self.dim // self.window\n",
        "        for i in range(dim_cells - 1):\n",
        "            for j in range(dim_cells - 1):\n",
        "                hist_fusion = np.concatenate([self.hist[i+ii, j+jj] for ii in range(2) for jj in range(2)])\n",
        "                hist_fusion = hist_fusion / np.sqrt(np.sum(np.square(hist_fusion)))\n",
        "                features = np.concatenate((features, hist_fusion))\n",
        "        \n",
        "        return features"
      ],
      "metadata": {
        "id": "4GeMZYtBICLH"
      },
      "execution_count": 11,
      "outputs": []
    },
    {
      "cell_type": "code",
      "source": [
        "window = 4\n",
        "bins = 9\n",
        "hog = HOG(window=window, bins=bins)\n",
        "\n",
        "dim_cells = 32 // window \n",
        "n_features = 4 * bins * (dim_cells - 1)**2\n",
        "\n",
        "x_train_hog = np.zeros((x_train.shape[0], n_features))\n",
        "for i in range(x_train.shape[0]):\n",
        "    x_train_hog[i] = hog.features(to_img(x_train[i]))\n",
        "\n",
        "x_test_hog = np.zeros((x_test.shape[0], n_features))\n",
        "for i in range(x_test.shape[0]):\n",
        "    x_test_hog[i] = hog.features(to_img(x_test[i]))"
      ],
      "metadata": {
        "id": "qzPMwXUiywRx"
      },
      "execution_count": 12,
      "outputs": []
    },
    {
      "cell_type": "markdown",
      "metadata": {
        "id": "fFZyaJx0X-yf"
      },
      "source": [
        "#### Kernels"
      ]
    },
    {
      "cell_type": "code",
      "execution_count": 13,
      "metadata": {
        "id": "QBWfEYF9YCgo"
      },
      "outputs": [],
      "source": [
        "class Linear:\n",
        "    def __init__(self):\n",
        "        pass\n",
        "    def kernel(self, X, Y):\n",
        "        return X @ Y.T\n",
        "\n",
        "class RBF:\n",
        "    def __init__(self, sigma=1.):\n",
        "        self.sigma = sigma\n",
        "    def kernel(self, X, Y):\n",
        "        sq_dist = np.sum(X**2, axis=1)[:, None] + np.sum(Y**2, axis=1)[None, :] - 2*X @ Y.T\n",
        "        return np.exp(-sq_dist / (2*self.sigma**2))\n",
        "\n",
        "class Laplace:\n",
        "    def __init__(self, sigma=1.):\n",
        "        self.sigma = sigma\n",
        "    def kernel(self, X, Y):\n",
        "        sq_dist = np.sum(X**2, axis=1)[:, None] + np.sum(Y**2, axis=1)[None, :] - 2*X @ Y.T\n",
        "        sq_dist = np.clip(sq_dist, 0, None)\n",
        "        \n",
        "        return np.exp(-np.sqrt(sq_dist) / (self.sigma))\n",
        "\n",
        "class Log():\n",
        "    def __init__(self, d):\n",
        "        self.d = d\n",
        "    def kernel(self, X, Y):\n",
        "        sq_dist = np.sum(X**2, axis=1)[:, None] + np.sum(Y**2, axis=1)[None, :] - 2*X @ Y.T\n",
        "        sq_dist = np.clip(sq_dist, 0, None)\n",
        "        return -np.log(1 + np.sqrt(sq_dist)**self.d)"
      ]
    },
    {
      "cell_type": "markdown",
      "metadata": {
        "id": "KpgrFyvIXfCZ"
      },
      "source": [
        "#### Binary classifier"
      ]
    },
    {
      "cell_type": "code",
      "execution_count": 14,
      "metadata": {
        "id": "lbCYMzVEaCnM"
      },
      "outputs": [],
      "source": [
        "class KRR:\n",
        "    \n",
        "    def __init__(self, kernel, lambd):                    \n",
        "        self.kernel = kernel\n",
        "        self.lambd = lambd\n",
        "        self.K = None\n",
        "        self.alpha = None\n",
        "        self.basis = None\n",
        "       \n",
        "    def krr(self, y):\n",
        "        \"\"\"Compute an optimal alpha for KRR\"\"\"\n",
        "        n = y.shape[0]\n",
        "        alpha = np.linalg.solve(self.K + self.lambd*n*np.eye(n), y)\n",
        "\n",
        "        return alpha\n",
        "\n",
        "    def fit(self, X, y):\n",
        "        \"\"\"Update the model parameters\"\"\"\n",
        "        n = len(y)\n",
        "        self.K = self.kernel(X, X)\n",
        "        self.basis = X\n",
        "        self.alpha = self.krr(y)\n",
        "\n",
        "    def score(self, x):\n",
        "        \"\"\"Real valued score function\"\"\"\n",
        "        K_x = self.kernel(x, self.basis)\n",
        "        return K_x @ self.alpha\n",
        "    \n",
        "    def predict(self, X):\n",
        "        \"\"\"Predict y values in {0, 1}\"\"\"\n",
        "        f = self.score(X)\n",
        "\n",
        "        return (f > 0)"
      ]
    },
    {
      "cell_type": "markdown",
      "metadata": {
        "id": "Mhly4WaifiBE"
      },
      "source": [
        "#### Multi class classifier"
      ]
    },
    {
      "cell_type": "code",
      "execution_count": 15,
      "metadata": {
        "id": "27954VApfhWQ"
      },
      "outputs": [],
      "source": [
        "class MultiClass_KRR:\n",
        "\n",
        "    def __init__(self, kernel, lambd):\n",
        "        self.kernel = kernel\n",
        "        self.lambd = lambd\n",
        "        self.c = None\n",
        "        self.classifiers = None\n",
        "\n",
        "    def fit(self, X, y):\n",
        "        \"\"\"\"Fit a binary classifier for each class\"\"\"\n",
        "        c = int(np.max(y)) + 1\n",
        "        self.c = c\n",
        "        classifiers = []\n",
        "        for i in range(c):\n",
        "          y_i = (y == i)\n",
        "          clf = KRR(self.kernel, self.lambd)\n",
        "          clf.fit(X, y_i)\n",
        "          classifiers.append(clf)\n",
        "        self.classifiers = classifiers\n",
        "    \n",
        "    def predict(self, X):\n",
        "        \"\"\"Predict y values in {0, 1, ..., c-1}\"\"\"\n",
        "        n = X.shape[0]\n",
        "        scores = np.zeros((self.c, n))\n",
        "        for i in range(self.c):\n",
        "          scores[i] = self.classifiers[i].score(X)\n",
        "        y_pred = np.argmax(scores, axis=0)\n",
        "\n",
        "        return y_pred"
      ]
    },
    {
      "cell_type": "markdown",
      "metadata": {
        "id": "O3k5tdLqW5BU"
      },
      "source": [
        "#### K-fold Cross validation"
      ]
    },
    {
      "cell_type": "code",
      "execution_count": 16,
      "metadata": {
        "id": "pk67vsWwG1Sg"
      },
      "outputs": [],
      "source": [
        "def split_cv(x_train, y_train, k=5):\n",
        "    \"\"\"Split the training data into k-fold train/validation sets\"\"\"\n",
        "\n",
        "    size = x_train.shape[0] // k\n",
        "    dim = x_train.shape[1]\n",
        "\n",
        "    cv_x_train = np.zeros((k, (k-1) * size, dim))\n",
        "    cv_x_val = np.zeros((k, size, dim))\n",
        "    for i in range(k):\n",
        "        cv_x_train[i] = np.delete(x_train, slice(i*size, (i+1)*size), axis=0)\n",
        "        cv_x_val[i] = x_train[i*size : (i+1)*size]\n",
        "\n",
        "    cv_y_train = np.zeros((k, (k-1) * size))\n",
        "    cv_y_val = np.zeros((k, size))\n",
        "    for i in range(k):\n",
        "        cv_y_train[i] = np.delete(y_train, slice(i*size, (i+1)*size))\n",
        "        cv_y_val[i] = y_train[i*size : (i+1)*size]\n",
        "\n",
        "    return cv_x_train, cv_y_train, cv_x_val, cv_y_val"
      ]
    },
    {
      "cell_type": "code",
      "execution_count": 17,
      "metadata": {
        "id": "cgHJlUwMSy8H"
      },
      "outputs": [],
      "source": [
        "def cv(model, x_train, y_train, k=5):\n",
        "    \"\"\"Compute the mean accuracy after k-fold cross-validation\"\"\"\n",
        "\n",
        "    cv_x_train, cv_y_train, cv_x_val, cv_y_val = split_cv(x_train, y_train, k)\n",
        "    size = x_train.shape[0] // k\n",
        "    scores = np.zeros(k)\n",
        "\n",
        "    for i in range(k):\n",
        "        model.fit(cv_x_train[i], cv_y_train[i])\n",
        "        y_pred = model.predict(cv_x_val[i])\n",
        "        scores[i] = (y_pred == cv_y_val[i]).sum() / size\n",
        "        print(f\"score : {scores[i]}\")\n",
        "    \n",
        "    return scores.mean()"
      ]
    },
    {
      "cell_type": "code",
      "execution_count": 18,
      "metadata": {
        "colab": {
          "base_uri": "https://localhost:8080/"
        },
        "id": "nqLFyVStpu4p",
        "outputId": "084f8583-1213-4793-c1d0-53b4614cd824"
      },
      "outputs": [
        {
          "output_type": "stream",
          "name": "stdout",
          "text": [
            "score : 0.561\n",
            "score : 0.553\n",
            "score : 0.558\n",
            "score : 0.545\n",
            "score : 0.593\n",
            "mean: 0.562\n"
          ]
        }
      ],
      "source": [
        "model = MultiClass_KRR(kernel = Log(4).kernel, lambd=1e-5)\n",
        "acc = cv(model, x_train_hog, y_train, k=5)\n",
        "\n",
        "print(f'mean: {acc}')"
      ]
    },
    {
      "cell_type": "markdown",
      "metadata": {
        "id": "j_nL9whLVsAk"
      },
      "source": [
        "#### Prediction on the testing set"
      ]
    },
    {
      "cell_type": "code",
      "execution_count": 19,
      "metadata": {
        "id": "7DFAi0L2UzZN"
      },
      "outputs": [],
      "source": [
        "def prediction(model, x_train, y_train, x_test):\n",
        "    \"\"\"Fit the model on the training data and predict on the testing set\"\"\"\n",
        "\n",
        "    model.fit(x_train, y_train)\n",
        "    y_test = model.predict(x_test)\n",
        "\n",
        "    return y_test\n",
        "\n",
        "model = MultiClass_KRR(kernel = Log(4).kernel, lambd=1e-5)\n",
        "\n",
        "y_test = prediction(model, x_train_hog, y_train, x_test_hog)\n",
        "y_test = {'Prediction' : y_test}\n",
        "dataframe = pd.DataFrame(y_test)\n",
        "dataframe.index += 1\n",
        "dataframe.to_csv('Yte_pred.csv',index_label='Id')"
      ]
    }
  ],
  "metadata": {
    "colab": {
      "collapsed_sections": [],
      "name": "challenge_kernel_methods.ipynb",
      "provenance": []
    },
    "kernelspec": {
      "display_name": "Python 3",
      "name": "python3"
    },
    "language_info": {
      "name": "python"
    }
  },
  "nbformat": 4,
  "nbformat_minor": 0
}